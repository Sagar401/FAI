{
 "cells": [
  {
   "cell_type": "markdown",
   "metadata": {},
   "source": [
    "# Titanic Machine Learning from Disaster \n",
    "\n",
    "The assignment is part of Kaggle challenge where we have to use the Titanic passenger data (name, age, price of ticket, etc) to predict who will survive and who will die.\n",
    "\n"
   ]
  },
  {
   "cell_type": "code",
   "execution_count": 123,
   "metadata": {},
   "outputs": [],
   "source": [
    "#loading all necessary libraries\n",
    "import numpy as np\n",
    "import pandas as pd\n",
    "from sklearn.model_selection import train_test_split\n",
    "import tensorflow as tf\n",
    "\n",
    "import matplotlib.pyplot as plt\n",
    "import seaborn as sns\n"
   ]
  },
  {
   "cell_type": "code",
   "execution_count": 124,
   "metadata": {},
   "outputs": [],
   "source": [
    "#loading csv file as a dataframe\n",
    "train_df = pd.read_csv(\"train.csv\")\n",
    "test_df = pd.read_csv(\"test.csv\")"
   ]
  },
  {
   "cell_type": "code",
   "execution_count": 125,
   "metadata": {},
   "outputs": [
    {
     "name": "stdout",
     "output_type": "stream",
     "text": [
      "Shape of training data: (891, 12)\n",
      "Shape of test data: (418, 11)\n"
     ]
    }
   ],
   "source": [
    "print(\"Shape of training data:\",train_df.shape)\n",
    "print(\"Shape of test data:\", test_df.shape)"
   ]
  },
  {
   "cell_type": "code",
   "execution_count": 126,
   "metadata": {},
   "outputs": [
    {
     "data": {
      "text/html": [
       "<div>\n",
       "<style scoped>\n",
       "    .dataframe tbody tr th:only-of-type {\n",
       "        vertical-align: middle;\n",
       "    }\n",
       "\n",
       "    .dataframe tbody tr th {\n",
       "        vertical-align: top;\n",
       "    }\n",
       "\n",
       "    .dataframe thead th {\n",
       "        text-align: right;\n",
       "    }\n",
       "</style>\n",
       "<table border=\"1\" class=\"dataframe\">\n",
       "  <thead>\n",
       "    <tr style=\"text-align: right;\">\n",
       "      <th></th>\n",
       "      <th>PassengerId</th>\n",
       "      <th>Survived</th>\n",
       "      <th>Pclass</th>\n",
       "      <th>Name</th>\n",
       "      <th>Sex</th>\n",
       "      <th>Age</th>\n",
       "      <th>SibSp</th>\n",
       "      <th>Parch</th>\n",
       "      <th>Ticket</th>\n",
       "      <th>Fare</th>\n",
       "      <th>Cabin</th>\n",
       "      <th>Embarked</th>\n",
       "    </tr>\n",
       "  </thead>\n",
       "  <tbody>\n",
       "    <tr>\n",
       "      <th>0</th>\n",
       "      <td>1</td>\n",
       "      <td>0</td>\n",
       "      <td>3</td>\n",
       "      <td>Braund, Mr. Owen Harris</td>\n",
       "      <td>male</td>\n",
       "      <td>22.0</td>\n",
       "      <td>1</td>\n",
       "      <td>0</td>\n",
       "      <td>A/5 21171</td>\n",
       "      <td>7.2500</td>\n",
       "      <td>NaN</td>\n",
       "      <td>S</td>\n",
       "    </tr>\n",
       "    <tr>\n",
       "      <th>1</th>\n",
       "      <td>2</td>\n",
       "      <td>1</td>\n",
       "      <td>1</td>\n",
       "      <td>Cumings, Mrs. John Bradley (Florence Briggs Th...</td>\n",
       "      <td>female</td>\n",
       "      <td>38.0</td>\n",
       "      <td>1</td>\n",
       "      <td>0</td>\n",
       "      <td>PC 17599</td>\n",
       "      <td>71.2833</td>\n",
       "      <td>C85</td>\n",
       "      <td>C</td>\n",
       "    </tr>\n",
       "    <tr>\n",
       "      <th>2</th>\n",
       "      <td>3</td>\n",
       "      <td>1</td>\n",
       "      <td>3</td>\n",
       "      <td>Heikkinen, Miss. Laina</td>\n",
       "      <td>female</td>\n",
       "      <td>26.0</td>\n",
       "      <td>0</td>\n",
       "      <td>0</td>\n",
       "      <td>STON/O2. 3101282</td>\n",
       "      <td>7.9250</td>\n",
       "      <td>NaN</td>\n",
       "      <td>S</td>\n",
       "    </tr>\n",
       "    <tr>\n",
       "      <th>3</th>\n",
       "      <td>4</td>\n",
       "      <td>1</td>\n",
       "      <td>1</td>\n",
       "      <td>Futrelle, Mrs. Jacques Heath (Lily May Peel)</td>\n",
       "      <td>female</td>\n",
       "      <td>35.0</td>\n",
       "      <td>1</td>\n",
       "      <td>0</td>\n",
       "      <td>113803</td>\n",
       "      <td>53.1000</td>\n",
       "      <td>C123</td>\n",
       "      <td>S</td>\n",
       "    </tr>\n",
       "    <tr>\n",
       "      <th>4</th>\n",
       "      <td>5</td>\n",
       "      <td>0</td>\n",
       "      <td>3</td>\n",
       "      <td>Allen, Mr. William Henry</td>\n",
       "      <td>male</td>\n",
       "      <td>35.0</td>\n",
       "      <td>0</td>\n",
       "      <td>0</td>\n",
       "      <td>373450</td>\n",
       "      <td>8.0500</td>\n",
       "      <td>NaN</td>\n",
       "      <td>S</td>\n",
       "    </tr>\n",
       "  </tbody>\n",
       "</table>\n",
       "</div>"
      ],
      "text/plain": [
       "   PassengerId  Survived  Pclass  \\\n",
       "0            1         0       3   \n",
       "1            2         1       1   \n",
       "2            3         1       3   \n",
       "3            4         1       1   \n",
       "4            5         0       3   \n",
       "\n",
       "                                                Name     Sex   Age  SibSp  \\\n",
       "0                            Braund, Mr. Owen Harris    male  22.0      1   \n",
       "1  Cumings, Mrs. John Bradley (Florence Briggs Th...  female  38.0      1   \n",
       "2                             Heikkinen, Miss. Laina  female  26.0      0   \n",
       "3       Futrelle, Mrs. Jacques Heath (Lily May Peel)  female  35.0      1   \n",
       "4                           Allen, Mr. William Henry    male  35.0      0   \n",
       "\n",
       "   Parch            Ticket     Fare Cabin Embarked  \n",
       "0      0         A/5 21171   7.2500   NaN        S  \n",
       "1      0          PC 17599  71.2833   C85        C  \n",
       "2      0  STON/O2. 3101282   7.9250   NaN        S  \n",
       "3      0            113803  53.1000  C123        S  \n",
       "4      0            373450   8.0500   NaN        S  "
      ]
     },
     "execution_count": 126,
     "metadata": {},
     "output_type": "execute_result"
    }
   ],
   "source": [
    "#lets look at our first few rows of train data\n",
    "train_df.head()"
   ]
  },
  {
   "cell_type": "code",
   "execution_count": 127,
   "metadata": {},
   "outputs": [
    {
     "data": {
      "text/html": [
       "<div>\n",
       "<style scoped>\n",
       "    .dataframe tbody tr th:only-of-type {\n",
       "        vertical-align: middle;\n",
       "    }\n",
       "\n",
       "    .dataframe tbody tr th {\n",
       "        vertical-align: top;\n",
       "    }\n",
       "\n",
       "    .dataframe thead th {\n",
       "        text-align: right;\n",
       "    }\n",
       "</style>\n",
       "<table border=\"1\" class=\"dataframe\">\n",
       "  <thead>\n",
       "    <tr style=\"text-align: right;\">\n",
       "      <th></th>\n",
       "      <th>PassengerId</th>\n",
       "      <th>Pclass</th>\n",
       "      <th>Name</th>\n",
       "      <th>Sex</th>\n",
       "      <th>Age</th>\n",
       "      <th>SibSp</th>\n",
       "      <th>Parch</th>\n",
       "      <th>Ticket</th>\n",
       "      <th>Fare</th>\n",
       "      <th>Cabin</th>\n",
       "      <th>Embarked</th>\n",
       "    </tr>\n",
       "  </thead>\n",
       "  <tbody>\n",
       "    <tr>\n",
       "      <th>0</th>\n",
       "      <td>892</td>\n",
       "      <td>3</td>\n",
       "      <td>Kelly, Mr. James</td>\n",
       "      <td>male</td>\n",
       "      <td>34.5</td>\n",
       "      <td>0</td>\n",
       "      <td>0</td>\n",
       "      <td>330911</td>\n",
       "      <td>7.8292</td>\n",
       "      <td>NaN</td>\n",
       "      <td>Q</td>\n",
       "    </tr>\n",
       "    <tr>\n",
       "      <th>1</th>\n",
       "      <td>893</td>\n",
       "      <td>3</td>\n",
       "      <td>Wilkes, Mrs. James (Ellen Needs)</td>\n",
       "      <td>female</td>\n",
       "      <td>47.0</td>\n",
       "      <td>1</td>\n",
       "      <td>0</td>\n",
       "      <td>363272</td>\n",
       "      <td>7.0000</td>\n",
       "      <td>NaN</td>\n",
       "      <td>S</td>\n",
       "    </tr>\n",
       "    <tr>\n",
       "      <th>2</th>\n",
       "      <td>894</td>\n",
       "      <td>2</td>\n",
       "      <td>Myles, Mr. Thomas Francis</td>\n",
       "      <td>male</td>\n",
       "      <td>62.0</td>\n",
       "      <td>0</td>\n",
       "      <td>0</td>\n",
       "      <td>240276</td>\n",
       "      <td>9.6875</td>\n",
       "      <td>NaN</td>\n",
       "      <td>Q</td>\n",
       "    </tr>\n",
       "    <tr>\n",
       "      <th>3</th>\n",
       "      <td>895</td>\n",
       "      <td>3</td>\n",
       "      <td>Wirz, Mr. Albert</td>\n",
       "      <td>male</td>\n",
       "      <td>27.0</td>\n",
       "      <td>0</td>\n",
       "      <td>0</td>\n",
       "      <td>315154</td>\n",
       "      <td>8.6625</td>\n",
       "      <td>NaN</td>\n",
       "      <td>S</td>\n",
       "    </tr>\n",
       "    <tr>\n",
       "      <th>4</th>\n",
       "      <td>896</td>\n",
       "      <td>3</td>\n",
       "      <td>Hirvonen, Mrs. Alexander (Helga E Lindqvist)</td>\n",
       "      <td>female</td>\n",
       "      <td>22.0</td>\n",
       "      <td>1</td>\n",
       "      <td>1</td>\n",
       "      <td>3101298</td>\n",
       "      <td>12.2875</td>\n",
       "      <td>NaN</td>\n",
       "      <td>S</td>\n",
       "    </tr>\n",
       "  </tbody>\n",
       "</table>\n",
       "</div>"
      ],
      "text/plain": [
       "   PassengerId  Pclass                                          Name     Sex  \\\n",
       "0          892       3                              Kelly, Mr. James    male   \n",
       "1          893       3              Wilkes, Mrs. James (Ellen Needs)  female   \n",
       "2          894       2                     Myles, Mr. Thomas Francis    male   \n",
       "3          895       3                              Wirz, Mr. Albert    male   \n",
       "4          896       3  Hirvonen, Mrs. Alexander (Helga E Lindqvist)  female   \n",
       "\n",
       "    Age  SibSp  Parch   Ticket     Fare Cabin Embarked  \n",
       "0  34.5      0      0   330911   7.8292   NaN        Q  \n",
       "1  47.0      1      0   363272   7.0000   NaN        S  \n",
       "2  62.0      0      0   240276   9.6875   NaN        Q  \n",
       "3  27.0      0      0   315154   8.6625   NaN        S  \n",
       "4  22.0      1      1  3101298  12.2875   NaN        S  "
      ]
     },
     "execution_count": 127,
     "metadata": {},
     "output_type": "execute_result"
    }
   ],
   "source": [
    "test_df.head()"
   ]
  },
  {
   "cell_type": "markdown",
   "metadata": {},
   "source": [
    "## Data Exploration\n",
    "\n",
    "Let's look at some distrubution related to target variable(Survived), gender and age"
   ]
  },
  {
   "cell_type": "code",
   "execution_count": 128,
   "metadata": {},
   "outputs": [
    {
     "data": {
      "text/plain": [
       "<matplotlib.axes._subplots.AxesSubplot at 0x18f245af940>"
      ]
     },
     "execution_count": 128,
     "metadata": {},
     "output_type": "execute_result"
    },
    {
     "data": {
      "image/png": "[encoded data removed]",
      "text/plain": [
       "<Figure size 432x288 with 1 Axes>"
      ]
     },
     "metadata": {
      "needs_background": "light"
     },
     "output_type": "display_data"
    }
   ],
   "source": [
    "sns.countplot(x='Survived', hue='Sex', data=train_df)"
   ]
  },
  {
   "cell_type": "code",
   "execution_count": 130,
   "metadata": {},
   "outputs": [
    {
     "data": {
      "text/plain": [
       "<matplotlib.axes._subplots.AxesSubplot at 0x18f246d2438>"
      ]
     },
     "execution_count": 130,
     "metadata": {},
     "output_type": "execute_result"
    },
    {
     "data": {
      "image/png": "[encoded data removed]",
      "text/plain": [
       "<Figure size 720x360 with 1 Axes>"
      ]
     },
     "metadata": {
      "needs_background": "light"
     },
     "output_type": "display_data"
    }
   ],
   "source": [
    "plt.figure(figsize=(10,5))\n",
    "sns.distplot(train_df['Age'], bins=15, color='g')"
   ]
  },
  {
   "cell_type": "markdown",
   "metadata": {},
   "source": [
    "## Checking for null values"
   ]
  },
  {
   "cell_type": "code",
   "execution_count": 6,
   "metadata": {},
   "outputs": [
    {
     "data": {
      "text/plain": [
       "PassengerId      0\n",
       "Survived         0\n",
       "Pclass           0\n",
       "Name             0\n",
       "Sex              0\n",
       "Age            177\n",
       "SibSp            0\n",
       "Parch            0\n",
       "Ticket           0\n",
       "Fare             0\n",
       "Cabin          687\n",
       "Embarked         2\n",
       "dtype: int64"
      ]
     },
     "execution_count": 6,
     "metadata": {},
     "output_type": "execute_result"
    }
   ],
   "source": [
    "#checking inconsistency in training data\n",
    "train_df.isnull().sum()"
   ]
  },
  {
   "cell_type": "code",
   "execution_count": 7,
   "metadata": {},
   "outputs": [
    {
     "data": {
      "text/plain": [
       "PassengerId      0\n",
       "Pclass           0\n",
       "Name             0\n",
       "Sex              0\n",
       "Age             86\n",
       "SibSp            0\n",
       "Parch            0\n",
       "Ticket           0\n",
       "Fare             1\n",
       "Cabin          327\n",
       "Embarked         0\n",
       "dtype: int64"
      ]
     },
     "execution_count": 7,
     "metadata": {},
     "output_type": "execute_result"
    }
   ],
   "source": [
    "#checking inconsistency in testing data\n",
    "test_df.isnull().sum()"
   ]
  },
  {
   "cell_type": "code",
   "execution_count": 8,
   "metadata": {},
   "outputs": [
    {
     "name": "stdout",
     "output_type": "stream",
     "text": [
      "Age column has 177 missing values out of 891 . Missing value percentage = 19.865319865319865\n",
      "Cabin column has 687 missing values out of 891 . Missing value percentage = 77.10437710437711\n",
      "Embarked column has 2 missing values out of 891 . Missing value percentage = 0.22446689113355783\n"
     ]
    }
   ],
   "source": [
    "print(\"Age column has\", train_df.Age.isnull().sum(), \"missing values out of\", len(train_df),\n",
    "      \". Missing value percentage =\", train_df.Age.isnull().sum()/len(train_df)*100)\n",
    "print(\"Cabin column has\", train_df.Cabin.isnull().sum(), \"missing values out of\", len(train_df),\n",
    "      \". Missing value percentage =\", train_df.Cabin.isnull().sum()/len(train_df)*100)\n",
    "print(\"Embarked column has\", train_df.Embarked.isnull().sum(), \"missing values out of\", len(train_df),\n",
    "      \". Missing value percentage =\", train_df.Embarked.isnull().sum()/len(train_df)*100)\n",
    "\n",
    "#looks like 3/4 values in Cabin is missing, so its better to remove it \n",
    "#for age and embarked we can clean and fill in the missing values"
   ]
  },
  {
   "cell_type": "markdown",
   "metadata": {},
   "source": [
    "## Data Cleaning "
   ]
  },
  {
   "cell_type": "code",
   "execution_count": 9,
   "metadata": {},
   "outputs": [],
   "source": [
    "#filling null values in age column with median values in both train and test data\n",
    "train_df['Age'].fillna(train_df['Age'].median(),inplace=True)\n",
    "test_df['Age'].fillna(test_df['Age'].median(),inplace=True)\n",
    "\n",
    "#filling null values in test data for Fare column with median values\n",
    "test_df['Fare'].fillna(test_df['Fare'].median(),inplace=True)\n",
    "\n",
    "#completing embarked value with mode\n",
    "train_df['Embarked'].fillna(train_df['Embarked'].mode()[0],inplace=True)"
   ]
  },
  {
   "cell_type": "code",
   "execution_count": 10,
   "metadata": {},
   "outputs": [],
   "source": [
    "#converting gender column which is string to its one hot  format\n",
    "train_df['Sex'] = train_df['Sex'].map({'female':0,'male':1}).astype(int)\n",
    "\n",
    "#converting embarked column into one hot\n",
    "train_df['Embarked'] = train_df['Embarked'].map({'S':0,'C':1,'Q':2}).astype(int)\n"
   ]
  },
  {
   "cell_type": "code",
   "execution_count": 11,
   "metadata": {},
   "outputs": [],
   "source": [
    "#dropping unnecessary columns \n",
    "drop_column = ['PassengerId','Cabin', 'Ticket','Name']\n",
    "train_df.drop(drop_column, axis=1, inplace = True)\n",
    "test_df.drop(drop_column, axis=1, inplace = True)"
   ]
  },
  {
   "cell_type": "code",
   "execution_count": 12,
   "metadata": {},
   "outputs": [],
   "source": [
    "#converting all columns to float datatype\n",
    "for x in train_df.columns:\n",
    "    train_df[x]=train_df[x].astype(np.float32)"
   ]
  },
  {
   "cell_type": "code",
   "execution_count": 13,
   "metadata": {},
   "outputs": [
    {
     "data": {
      "text/plain": [
       "Survived    float32\n",
       "Pclass      float32\n",
       "Sex         float32\n",
       "Age         float32\n",
       "SibSp       float32\n",
       "Parch       float32\n",
       "Fare        float32\n",
       "Embarked    float32\n",
       "dtype: object"
      ]
     },
     "execution_count": 13,
     "metadata": {},
     "output_type": "execute_result"
    }
   ],
   "source": [
    "train_df.dtypes"
   ]
  },
  {
   "cell_type": "code",
   "execution_count": 14,
   "metadata": {},
   "outputs": [],
   "source": [
    "#spliting dataframe into training and label\n",
    "X_train_temp = train_df.drop('Survived',axis=1)\n",
    "Y_train_temp = train_df['Survived']\n",
    "\n",
    "#spliting train data into train and test/validation\n",
    "X_train, X_test, Y_train, Y_test = train_test_split(X_train_temp, Y_train_temp, test_size = 0.2)\n"
   ]
  },
  {
   "cell_type": "markdown",
   "metadata": {},
   "source": [
    "# Random Forest Classifier - Sklearn\n",
    "\n",
    "A supervised learning algorithm, in simple words random forest builds multiple Decision Trees and merges them together to get more accurate and stable predictions. \n",
    "One biggest advantage of this algorithm is that it can be used for both regression and classification problem\n",
    "\n",
    "I am using Random forest model from sklearn machine learning library, with 50 estimators/trees\n",
    "\n",
    "With oob estimate set to 'True', oob here means \"out of bag\" which is a way of validating random forest model\n",
    "\n"
   ]
  },
  {
   "cell_type": "code",
   "execution_count": 117,
   "metadata": {},
   "outputs": [],
   "source": [
    "#Fitting Random Forest Classification to the Training set\n",
    "from sklearn.ensemble import RandomForestClassifier\n",
    "from sklearn.metrics import precision_score, recall_score, confusion_matrix\n",
    "\n",
    "random_forest = RandomForestClassifier(n_estimators=100,criterion='entropy',oob_score=True, max_features='auto')\n",
    "random_forest.fit(X_train, Y_train)\n",
    "Y_pred = random_forest.predict(X_test)"
   ]
  },
  {
   "cell_type": "code",
   "execution_count": 118,
   "metadata": {},
   "outputs": [
    {
     "name": "stdout",
     "output_type": "stream",
     "text": [
      "Training Score:  98.7 %\n"
     ]
    }
   ],
   "source": [
    "print(\"Training Score: \", round(random_forest.score(X_train, Y_train), 3 )*100,\"%\")"
   ]
  },
  {
   "cell_type": "code",
   "execution_count": 119,
   "metadata": {},
   "outputs": [
    {
     "name": "stdout",
     "output_type": "stream",
     "text": [
      "oob score: 81.74 %\n"
     ]
    }
   ],
   "source": [
    "print(\"oob score:\", round(random_forest.oob_score_, 4)*100, \"%\")"
   ]
  },
  {
   "cell_type": "markdown",
   "metadata": {},
   "source": [
    "looks like we have training accuracy as +98% and a good oob score of +80%, which is just another form of accuracy for estimating how well our model performs. \n",
    " Now we can start evaluating out model on test dataset and see how well does it perform, \n",
    " "
   ]
  },
  {
   "cell_type": "code",
   "execution_count": 120,
   "metadata": {},
   "outputs": [
    {
     "data": {
      "text/plain": [
       "array([[99, 19],\n",
       "       [15, 46]], dtype=int64)"
      ]
     },
     "execution_count": 120,
     "metadata": {},
     "output_type": "execute_result"
    }
   ],
   "source": [
    "#confusion matrix on test dataset and predicted output\n",
    "confusion_matrix(Y_pred,Y_test)"
   ]
  },
  {
   "cell_type": "markdown",
   "metadata": {},
   "source": [
    "First row is about not survived predictions : 99 were correctly classified as not survived (called true negatives) and 18 were incorrectly classified as not survived (called false positive)\n",
    "\n",
    "Second row is about the survived predictions: 15 were incorrectly classified as survived (called false negative) and 47 were correctly classified as survived(called true positive)\n",
    "\n",
    "\n",
    "A confusion matrix gives one a lot of information about how well does a model perform, but there are other ways such as computing precision and recall for better understanding"
   ]
  },
  {
   "cell_type": "code",
   "execution_count": 121,
   "metadata": {},
   "outputs": [
    {
     "name": "stdout",
     "output_type": "stream",
     "text": [
      "Precision: 0.7076923076923077\n",
      "Recall: 0.7540983606557377\n"
     ]
    }
   ],
   "source": [
    "print(\"Precision:\", precision_score(Y_pred, Y_test))\n",
    "print(\"Recall:\",recall_score(Y_pred, Y_test))"
   ]
  },
  {
   "cell_type": "markdown",
   "metadata": {},
   "source": [
    "My model predicts 70% of the time, a passengers survival correctly(precision). The recall tells us that it predicted the survival of 75% of the people who actually survived on Test data\n",
    "\n",
    "let's try Neural Network and see how well does it predict"
   ]
  },
  {
   "cell_type": "markdown",
   "metadata": {},
   "source": [
    "# Simple Feed-Forward Neural Network with Tensorflow\n",
    "\n",
    "\n",
    "Building a simple example and starting point for neural network with Tensorfloow.\n",
    "\n",
    "I have created a feed-forward neural network with two hidden layer each with 16 nodes and ReLU units. The test accuracy is arround 80%-82% - which is quite good start for such a simple model"
   ]
  },
  {
   "cell_type": "code",
   "execution_count": 18,
   "metadata": {},
   "outputs": [],
   "source": [
    "#reseting tensorflow graph\n",
    "tf.reset_default_graph()\n",
    "\n",
    "#initializing parameters\n",
    "#inputs = Feature sets\n",
    "inputs = tf.placeholder(tf.float32, shape=(None,7), name='inputs')\n",
    "#target = target feature (will survive / will not survive)\n",
    "target = tf.placeholder(tf.float32,shape=(None,1), name= 'target')\n",
    "\n",
    "#adding layers\n",
    "#layer_1 and layer_2 adds a dense layer (fully connected) with 16 nodes as output\n",
    "#the activation function used is ReLU \n",
    "layer_1 = tf.layers.dense(inputs,16,activation = 'relu')\n",
    "layer_2 = tf.layers.dense(layer_1,16,activation = 'relu')\n",
    "\n",
    "#output layer has one node which gives 1 value as an output.\n",
    "#Activation function used here is sigmoid as we are performing binary classification\n",
    "output = tf.layers.dense(layer_2,1,activation ='sigmoid')\n",
    "\n",
    "#cost function\n",
    "#using cross entropy for comparison of probability distribution of two classes   \n",
    "cross_entropy = tf.nn.sigmoid_cross_entropy_with_logits(labels = target,logits= output)\n",
    "cost = tf.reduce_mean(cross_entropy)\n",
    "\n",
    "#optimizer\n",
    "#using adam optimizer with learning rate of 0.005 to aim for minimizing cost variable for better accuracy\n",
    "optimizer = tf.train.AdamOptimizer(0.005).minimize(cost)\n",
    "\n",
    "#computing accuracy by matching predicted output with original target\n",
    "result = tf.equal(tf.round(output),target)\n",
    "accuracy = tf.reduce_mean(tf.cast(result,tf.float32))\n",
    "\n"
   ]
  },
  {
   "cell_type": "code",
   "execution_count": 21,
   "metadata": {},
   "outputs": [],
   "source": [
    "#generator function to divide dataset into mini batches \n",
    "def batcher():\n",
    "    i1 = 0\n",
    "    i2 = 0\n",
    "    batch_size = 64\n",
    "    \n",
    "    while i1 <len(X_train):\n",
    "        yield X_train.iloc[i1:i1+batch_size,:],Y_train.iloc[i1:i1+batch_size]\n",
    "        i1+=32"
   ]
  },
  {
   "cell_type": "code",
   "execution_count": 22,
   "metadata": {},
   "outputs": [
    {
     "name": "stdout",
     "output_type": "stream",
     "text": [
      "Training -- Epoch : 0 Accuracy : 0.875 Loss : 0.69318783\n",
      "Testing -- Epoch : 0 Accuracy : 0.6368715 Loss : 0.692759\n",
      "\n",
      "\n",
      "Training -- Epoch : 100 Accuracy : 0.875 Loss : 0.72318095\n",
      "Testing -- Epoch : 100 Accuracy : 0.7318436 Loss : 0.66693556\n",
      "\n",
      "\n",
      "Training -- Epoch : 200 Accuracy : 0.875 Loss : 0.7231827\n",
      "Testing -- Epoch : 200 Accuracy : 0.75418997 Loss : 0.6547267\n",
      "\n",
      "\n",
      "Training -- Epoch : 300 Accuracy : 1.0 Loss : 0.64836013\n",
      "Testing -- Epoch : 300 Accuracy : 0.82681566 Loss : 0.6320565\n",
      "\n",
      "\n",
      "Training -- Epoch : 400 Accuracy : 1.0 Loss : 0.6456791\n",
      "Testing -- Epoch : 400 Accuracy : 0.8156425 Loss : 0.63102365\n",
      "\n",
      "\n",
      "Training -- Epoch : 500 Accuracy : 1.0 Loss : 0.64566153\n",
      "Testing -- Epoch : 500 Accuracy : 0.82122904 Loss : 0.6296846\n",
      "\n",
      "\n"
     ]
    }
   ],
   "source": [
    "#creating a session to train and execute a neural network\n",
    "with tf.Session() as sess:\n",
    "    sess.run(tf.global_variables_initializer())\n",
    "    for e in range(501):\n",
    "        z = batcher()\n",
    "        for x,y in z:\n",
    "           #for training data\n",
    "            result = sess.run([cost,optimizer,accuracy],\n",
    "                              feed_dict = {'inputs:0':np.array(x).reshape(-1,7),\n",
    "                                           'target:0':np.array(y).reshape(-1,1)})\n",
    "        if(e%100 == 0):\n",
    "            print(\"Training -- Epoch : \"+str(e)+\" Accuracy : \"+str(result[2])+\" Loss : \"+str(result[0]))\n",
    "        #for test data\n",
    "        result = sess.run([cost,optimizer,accuracy],\n",
    "                         feed_dict={'inputs:0':np.array(X_test).reshape(-1,7),\n",
    "                                   'target:0':np.array(Y_test).reshape(-1,1)})\n",
    "        if(e%100 == 0):\n",
    "            print(\"Testing -- Epoch : \"+str(e)+\" Accuracy : \"+str(result[2])+\" Loss : \"+str(result[0]))\n",
    "            print(\"\\n\")"
   ]
  },
  {
   "cell_type": "markdown",
   "metadata": {},
   "source": [
    "looks like out model is overfitting with training data, test accuracy is quite good for start of around 82% for a basic neural network model. \n",
    "\n",
    "Future Enhancements:\n",
    "\n",
    "    1- We can use Regularization and dropout to prevent overfitting. \n",
    "    2 -We can also play around different neural network architecture and tune some hyperparameter\n"
   ]
  },
  {
   "cell_type": "code",
   "execution_count": null,
   "metadata": {},
   "outputs": [],
   "source": []
  }
 ],
 "metadata": {
  "kernelspec": {
   "display_name": "Python 3",
   "language": "python",
   "name": "python3"
  },
  "language_info": {
   "codemirror_mode": {
    "name": "ipython",
    "version": 3
   },
   "file_extension": ".py",
   "mimetype": "text/x-python",
   "name": "python",
   "nbconvert_exporter": "python",
   "pygments_lexer": "ipython3",
   "version": "3.7.3"
  }
 },
 "nbformat": 4,
 "nbformat_minor": 2
}
